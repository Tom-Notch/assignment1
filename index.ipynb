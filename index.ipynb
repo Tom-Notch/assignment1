{
 "cells": [
  {
   "cell_type": "markdown",
   "metadata": {},
   "source": [
    "# Assignment 1\n",
    "\n",
    "[Mukai (Tom Notch) Yu](https://tomnotch.com)\n",
    "\n",
    "[mukaiy@andrew.cmu.edu](mailto:mukaiy@andrew.cmu.edu)"
   ]
  },
  {
   "cell_type": "markdown",
   "metadata": {},
   "source": [
    "# 1. Practicing with Cameras"
   ]
  },
  {
   "cell_type": "markdown",
   "metadata": {},
   "source": [
    "## 1.1. 360-degree Renders (5 points)"
   ]
  },
  {
   "cell_type": "markdown",
   "metadata": {},
   "source": [
    "![cow_turnable](images/cow_turntable.gif)"
   ]
  },
  {
   "cell_type": "markdown",
   "metadata": {},
   "source": [
    "## 1.2 Re-creating the Dolly Zoom (10 points)"
   ]
  },
  {
   "cell_type": "markdown",
   "metadata": {},
   "source": [
    "![dolly](images/dolly.gif)"
   ]
  },
  {
   "cell_type": "markdown",
   "metadata": {},
   "source": [
    "# 2. Practicing with Meshes"
   ]
  },
  {
   "cell_type": "markdown",
   "metadata": {},
   "source": [
    "## 2.1 Constructing a Tetrahedron (5 points)"
   ]
  },
  {
   "cell_type": "markdown",
   "metadata": {},
   "source": [
    "![tetrahedron](images/tetrahedron_turntable.gif)\n",
    "\n",
    "It should have 4 vertices and 4 faces"
   ]
  },
  {
   "cell_type": "markdown",
   "metadata": {},
   "source": [
    "## 2.2 Constructing a Cube (5 points)"
   ]
  },
  {
   "cell_type": "markdown",
   "metadata": {},
   "source": [
    "![cube](images/cube_turntable.gif)\n",
    "\n",
    "It should have 6 vertices and 6 $\\times$ 2 = 12 faces"
   ]
  },
  {
   "cell_type": "markdown",
   "metadata": {},
   "source": [
    "# 3. Re-texturing a mesh (10 points)"
   ]
  },
  {
   "cell_type": "markdown",
   "metadata": {},
   "source": [
    "![re-texture](images/cow_retextured_turntable.gif)\n",
    "\n",
    "```Python\n",
    "color1 = torch.tensor([0.0, 0.0, 1.0], device=device, dtype=torch.float32)  # front: blue\n",
    "color2 = torch.tensor([1.0, 0.0, 0.0], device=device, dtype=torch.float32)  # back: red\n",
    "```"
   ]
  },
  {
   "cell_type": "markdown",
   "metadata": {},
   "source": [
    "# 4. Camera Transformations (10 points)"
   ]
  },
  {
   "cell_type": "markdown",
   "metadata": {},
   "source": [
    "This is the standard SE(3) formulation, in essence it's rotate **then** translate"
   ]
  },
  {
   "cell_type": "markdown",
   "metadata": {},
   "source": [
    "![cow_R_right](images/cow_R_right.jpg)\n",
    "\n",
    "```Python\n",
    "render_textured_cow(R_relative=[[0, 1, 0], [-1, 0, 0], [0, 0, 1]])\n",
    "```"
   ]
  },
  {
   "cell_type": "markdown",
   "metadata": {},
   "source": [
    "![cow_T_far](images/cow_T_far.jpg)\n",
    "\n",
    "```Python\n",
    "render_textured_cow(T_relative=[0, 0, 1])\n",
    "```"
   ]
  },
  {
   "cell_type": "markdown",
   "metadata": {},
   "source": [
    "![cow_T_left](images/cow_T_left.jpg)\n",
    "\n",
    "```Python\n",
    "render_textured_cow(T_relative=[1, 0, 0])\n",
    "```"
   ]
  },
  {
   "cell_type": "markdown",
   "metadata": {},
   "source": [
    "![cow_composite](images/cow_composite.jpg)\n",
    "\n",
    "```Python\n",
    "render_textured_cow(\n",
    "    R_relative=[[0, 0, 1], [0, 1, 0], [-1, 0, 0]], T_relative=[-3, 0, 3]\n",
    ")\n",
    "```"
   ]
  },
  {
   "cell_type": "markdown",
   "metadata": {},
   "source": [
    "# 5. Rendering Generic 3D Representations"
   ]
  },
  {
   "cell_type": "markdown",
   "metadata": {},
   "source": [
    "## 5.1 Rendering Point Clouds from RGB-D Images (10 points)"
   ]
  },
  {
   "cell_type": "markdown",
   "metadata": {},
   "source": [
    "![side_by_side](images/rgbd_pointclouds_side_by_side.gif)"
   ]
  },
  {
   "cell_type": "markdown",
   "metadata": {},
   "source": [
    "## 5.2 Parametric Functions (10 + 5 points)"
   ]
  },
  {
   "cell_type": "markdown",
   "metadata": {},
   "source": [
    "![torus](images/torus_rotation.gif)"
   ]
  },
  {
   "cell_type": "markdown",
   "metadata": {},
   "source": [
    "![mobius](images/mobius_rotation.gif)\n",
    "\n",
    "Mobius"
   ]
  },
  {
   "cell_type": "markdown",
   "metadata": {},
   "source": [
    "## 5.3 Implicit Surfaces (15 + 5 points)"
   ]
  },
  {
   "cell_type": "markdown",
   "metadata": {},
   "source": [
    "![torus](images/torus_implicit.gif)"
   ]
  },
  {
   "cell_type": "markdown",
   "metadata": {},
   "source": [
    "There're too many thing that can be discussed\n",
    "\n",
    "Point Cloud:\n",
    "- Never a volume, no inside/outside so if zoom-in will see holes everywhere\n",
    "- Fast, not much to store, not much to render, no BRDF or complex shader involved\n",
    "- Pretty easy to use if just as canonical form, but unstructured\n",
    "\n",
    "Mesh:\n",
    "- Has the concept of volume if closed, has inside/outside, zoom-in will cause loss of fidelity but can still render reasonable intensity (can interpolate anyways, both location and appearance)\n",
    "- Slower than point cloud, but we have complex vertex & pixel/fragment shaders nowadays so not much of a problem, more things to store (face)\n",
    "- Also pretty easy to use, and structured"
   ]
  },
  {
   "cell_type": "markdown",
   "metadata": {},
   "source": [
    "![mobius](images/mobius_implicit.gif)\n",
    "\n",
    "(Yeah this is a \"mesh\")"
   ]
  }
 ],
 "metadata": {
  "kernelspec": {
   "display_name": "learning3d",
   "language": "python",
   "name": "python3"
  },
  "language_info": {
   "codemirror_mode": {
    "name": "ipython",
    "version": 3
   },
   "file_extension": ".py",
   "mimetype": "text/x-python",
   "name": "python",
   "nbconvert_exporter": "python",
   "pygments_lexer": "ipython3",
   "version": "3.10.16"
  }
 },
 "nbformat": 4,
 "nbformat_minor": 2
}
